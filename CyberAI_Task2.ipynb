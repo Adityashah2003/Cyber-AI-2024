{
 "cells": [
  {
   "cell_type": "code",
   "execution_count": null,
   "id": "fcbd1c0c-57a3-4f9a-8d6c-ef24e2165ddf",
   "metadata": {},
   "outputs": [],
   "source": [
    "import librosa\n",
    "import os\n",
    "import pandas as pd\n",
    "import numpy as np\n",
    "import parselmouth  \n",
    "from scipy.signal import lfilter\n",
    "from scipy.fftpack import fft\n",
    "from sklearn.preprocessing import StandardScaler"
   ]
  },
  {
   "cell_type": "code",
   "execution_count": 3,
   "id": "8351fa51-c219-40ea-8ac3-a10fa4103595",
   "metadata": {},
   "outputs": [],
   "source": [
    "audio_directory = 'D://CyberAI 2024//Task 2'\n",
    "n_mels = 128 \n",
    "fmax = None   \n",
    "feature_list = []\n",
    "labels = []"
   ]
  },
  {
   "cell_type": "code",
   "execution_count": null,
   "id": "aab74663-99fe-436d-96c8-42d1346ac248",
   "metadata": {},
   "outputs": [],
   "source": [
    "for file_name in os.listdir(audio_directory):\n",
    "    if file_name.endswith('.wav'):\n",
    "        file_path = os.path.join(audio_directory, file_name)\n",
    "        \n",
    "        label = int(file_name[-5])  \n",
    "        y, sr = librosa.load(file_path, sr=None)\n",
    "        \n",
    "        n_fft_value = min(512, max(256, len(y) // 2))\n",
    "        \n",
    "        # Extract features\n",
    "        mfcc = librosa.feature.mfcc(y=y, sr=sr, n_mfcc=13, n_fft=n_fft_value)\n",
    "        chroma = librosa.feature.chroma_stft(y=y, sr=sr, n_fft=n_fft_value)\n",
    "        spectral_contrast = librosa.feature.spectral_contrast(y=y, sr=sr, n_fft=n_fft_value)\n",
    "        spectral_centroid = librosa.feature.spectral_centroid(y=y, sr=sr, n_fft=n_fft_value)\n",
    "        spectral_bandwidth = librosa.feature.spectral_bandwidth(y=y, sr=sr, n_fft=n_fft_value)\n",
    "        spectral_flatness = librosa.feature.spectral_flatness(y=y, n_fft=n_fft_value)\n",
    "        spectral_rolloff = librosa.feature.spectral_rolloff(y=y, sr=sr, n_fft=n_fft_value)\n",
    "        mel_spectrogram = librosa.feature.melspectrogram(y=y, sr=sr, n_fft=n_fft_value, n_mels=n_mels, fmax=fmax)\n",
    "        tonnetz = librosa.feature.tonnetz(y=librosa.effects.harmonic(y), sr=sr)\n",
    "\n",
    "        # Flatten the features\n",
    "        mfccs_mean = np.mean(mfcc, axis=1)\n",
    "        chroma_mean = np.mean(chroma, axis=1)\n",
    "        spectral_contrast_mean = np.mean(spectral_contrast, axis=1)\n",
    "        spectral_centroid_mean = np.mean(spectral_centroid, axis=1)\n",
    "        spectral_bandwidth_mean = np.mean(spectral_bandwidth, axis=1)\n",
    "        spectral_flatness_mean = np.mean(spectral_flatness, axis=1)\n",
    "        spectral_rolloff_mean = np.mean(spectral_rolloff, axis=1)\n",
    "        mel_spectrogram_mean = np.mean(mel_spectrogram, axis=1)\n",
    "        tonnetz_mean = np.mean(tonnetz, axis=1)\n",
    "\n",
    "        # Combine all features into a single feature vector\n",
    "        features = np.hstack([mfccs_mean, chroma_mean, spectral_contrast_mean,\n",
    "                              spectral_centroid_mean, spectral_bandwidth_mean,\n",
    "                              spectral_flatness_mean, spectral_rolloff_mean,\n",
    "                              mel_spectrogram_mean, tonnetz_mean])\n",
    "        \n",
    "        # Append features and label to the feature list\n",
    "        feature_list.append(features)\n",
    "        labels.append(label)"
   ]
  },
  {
   "cell_type": "code",
   "execution_count": 6,
   "id": "96023b84-fc96-4c86-b021-43724d2321f7",
   "metadata": {},
   "outputs": [],
   "source": [
    "num_mel_spectrogram = mel_spectrogram_mean.shape[0]\n",
    "num_tonnetz = tonnetz_mean.shape[0]\n",
    "\n",
    "# Construct columns dynamically\n",
    "columns = [f'mfcc_{i}' for i in range(1, 14)] + \\\n",
    "          [f'chroma_{i}' for i in range(1, 13)] + \\\n",
    "          [f'spectral_contrast_{i}' for i in range(1, 8)] + \\\n",
    "          ['spectral_centroid', 'spectral_bandwidth', 'spectral_flatness', 'spectral_rolloff'] + \\\n",
    "          [f'mel_spectrogram_{i}' for i in range(1, num_mel_spectrogram + 1)] + \\\n",
    "          [f'tonnetz_{i}' for i in range(1, num_tonnetz + 1)]\n",
    "\n",
    "columns.append('label')\n",
    "\n",
    "df = pd.DataFrame(feature_list, columns=columns[:-1]) \n",
    "df['label'] = labels  "
   ]
  },
  {
   "cell_type": "code",
   "execution_count": 7,
   "id": "61a23214-af13-4a1c-9fc6-9b1d329421a7",
   "metadata": {},
   "outputs": [],
   "source": [
    "df.to_csv('task2.csv', index=False,header=True)"
   ]
  }
 ],
 "metadata": {
  "kernelspec": {
   "display_name": "Python 3 (ipykernel)",
   "language": "python",
   "name": "python3"
  },
  "language_info": {
   "codemirror_mode": {
    "name": "ipython",
    "version": 3
   },
   "file_extension": ".py",
   "mimetype": "text/x-python",
   "name": "python",
   "nbconvert_exporter": "python",
   "pygments_lexer": "ipython3",
   "version": "3.11.9"
  }
 },
 "nbformat": 4,
 "nbformat_minor": 5
}
