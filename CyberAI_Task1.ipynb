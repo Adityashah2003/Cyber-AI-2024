{
 "cells": [
  {
   "cell_type": "code",
   "execution_count": 44,
   "id": "8b4d9392-5076-4fc8-b674-5b9cd74231ae",
   "metadata": {},
   "outputs": [],
   "source": [
    "import librosa\n",
    "import os\n",
    "import pandas as pd\n",
    "import numpy as np\n",
    "import parselmouth  \n",
    "from scipy.signal import lfilter\n",
    "from scipy.fftpack import fft\n",
    "from sklearn.preprocessing import StandardScaler\n",
    "import numpy as np\n",
    "from scipy.signal import lfilter\n",
    "import speechpy"
   ]
  },
  {
   "cell_type": "code",
   "execution_count": 45,
   "id": "14dd8306-1ed8-4690-b7ba-ff60f16175e5",
   "metadata": {},
   "outputs": [],
   "source": [
    "audio_directory = '../../data/Task 1/'\n",
    "n_mels = 128 \n",
    "fmax = None   \n",
    "feature_list = []\n",
    "labels = []\n",
    "file_names = [] "
   ]
  },
  {
   "cell_type": "code",
   "execution_count": 46,
   "id": "82c78d39-6522-45d5-b867-00d03694c117",
   "metadata": {},
   "outputs": [],
   "source": [
    "def lpc(y, order):\n",
    "    # Calculate the autocorrelation of the signal\n",
    "    n = len(y)\n",
    "    r = np.correlate(y, y, mode='full')[n-1:]\n",
    "    \n",
    "    # Solve the Yule-Walker equations for LPC coefficients\n",
    "    R = np.zeros((order + 1, order + 1))\n",
    "    for i in range(order + 1):\n",
    "        R[i, :] = r[i:i + order + 1]\n",
    "\n",
    "    # Get the LPC coefficients using numpy's linear algebra solver\n",
    "    a = np.linalg.solve(R, r[:order + 1])\n",
    "    return a"
   ]
  },
  {
   "cell_type": "code",
   "execution_count": 47,
   "id": "c7738dc0-bf8b-48fc-bb02-dc1d92353196",
   "metadata": {},
   "outputs": [],
   "source": [
    "def extract_lpc_plp(y, sr):\n",
    "    # LPC calculation\n",
    "    lpc_order = 16  # typically 12-16\n",
    "    lpc_features = lpc(y, lpc_order)\n",
    "    \n",
    "    # PLP calculation\n",
    "    plp_features = speechpy.feature.plp(y, sr)\n",
    "    \n",
    "    return lpc_features, plp_features"
   ]
  },
  {
   "cell_type": "code",
   "execution_count": 48,
   "id": "5c2ad25a-58ca-43a6-8cee-4b56a564a3e6",
   "metadata": {},
   "outputs": [],
   "source": [
    "def extract_prosody_features(y, sr):\n",
    "    # Pitch using librosa's pitch estimator\n",
    "    pitch, _ = librosa.piptrack(y=y, sr=sr)\n",
    "    pitch_mean = np.mean(pitch[pitch > 0])\n",
    "    \n",
    "    # Energy (RMS)\n",
    "    energy = librosa.feature.rms(y=y)\n",
    "    energy_mean = np.mean(energy)\n",
    "    \n",
    "    return pitch_mean, energy_mean"
   ]
  },
  {
   "cell_type": "code",
   "execution_count": 49,
   "id": "a8447aec-17ae-409b-8443-11092de935d4",
   "metadata": {},
   "outputs": [],
   "source": [
    "def extract_praat_features(y, sr):\n",
    "    sound = parselmouth.Sound(y, sr)\n",
    "    \n",
    "    # Initialize default values\n",
    "    hnr, jitter, shimmer = 0.0, 0.0, 0.0\n",
    "    \n",
    "    try:\n",
    "        # Harmonic-to-Noise Ratio (HNR)\n",
    "        hnr = sound.to_harmonicity().values.mean()\n",
    "    except:\n",
    "        pass\n",
    "    \n",
    "    try:\n",
    "        # Extract the point process from the sound\n",
    "        point_process = parselmouth.praat.call(sound, \"To PointProcess (periodic, cc)\", 75, 500)\n",
    "        \n",
    "        # Calculate Jitter\n",
    "        jitter = parselmouth.praat.call(point_process, \"Get jitter (local)\", 0, 0, 0.0001, 0.02, 1.3)\n",
    "    except:\n",
    "        pass\n",
    "    \n",
    "    try:\n",
    "        # Calculate Shimmer\n",
    "        shimmer = parselmouth.praat.call([sound, point_process], \"Get shimmer (local)\", 0, 0, 0.0001, 0.02, 1.3)\n",
    "    except:\n",
    "        pass\n",
    "    \n",
    "    return hnr, jitter, shimmer"
   ]
  },
  {
   "cell_type": "code",
   "execution_count": 50,
   "id": "5c8dcd3e-d6f5-4af7-8e2f-d235a1e732a9",
   "metadata": {},
   "outputs": [],
   "source": [
    "def extract_lpc_plp(y, sr):\n",
    "    # LPC calculation\n",
    "    lpc_order = 16  # typically 12-16\n",
    "    lpc_features = lpc(y, sr, lpc_order)\n",
    "    \n",
    "    # PLP calculation\n",
    "    plp_features = speechpy.feature.plp(y, sr)\n",
    "    \n",
    "    return lpc_features, plp_features\n"
   ]
  },
  {
   "cell_type": "code",
   "execution_count": 51,
   "id": "768caada-a356-4222-830c-97fbca8eae6b",
   "metadata": {},
   "outputs": [
    {
     "ename": "PraatError",
     "evalue": "Command \"Get shimmer (local)\" not available for given objects.",
     "output_type": "error",
     "traceback": [
      "\u001b[0;31m---------------------------------------------------------------------------\u001b[0m",
      "\u001b[0;31mPraatError\u001b[0m                                Traceback (most recent call last)",
      "Cell \u001b[0;32mIn[51], line 20\u001b[0m\n\u001b[1;32m     17\u001b[0m tonnetz \u001b[38;5;241m=\u001b[39m librosa\u001b[38;5;241m.\u001b[39mfeature\u001b[38;5;241m.\u001b[39mtonnetz(y\u001b[38;5;241m=\u001b[39mlibrosa\u001b[38;5;241m.\u001b[39meffects\u001b[38;5;241m.\u001b[39mharmonic(y), sr\u001b[38;5;241m=\u001b[39msr)\n\u001b[1;32m     19\u001b[0m \u001b[38;5;66;03m# Extract new features\u001b[39;00m\n\u001b[0;32m---> 20\u001b[0m hnr, jitter, shimmer \u001b[38;5;241m=\u001b[39m \u001b[43mextract_praat_features\u001b[49m\u001b[43m(\u001b[49m\u001b[43my\u001b[49m\u001b[43m,\u001b[49m\u001b[43m \u001b[49m\u001b[43msr\u001b[49m\u001b[43m)\u001b[49m\n\u001b[1;32m     21\u001b[0m lpc_features, plp_features \u001b[38;5;241m=\u001b[39m extract_lpc_plp(y, sr)\n\u001b[1;32m     22\u001b[0m pitch_mean, energy_mean \u001b[38;5;241m=\u001b[39m extract_prosody_features(y, sr)\n",
      "Cell \u001b[0;32mIn[49], line 14\u001b[0m, in \u001b[0;36mextract_praat_features\u001b[0;34m(y, sr)\u001b[0m\n\u001b[1;32m     11\u001b[0m jitter \u001b[38;5;241m=\u001b[39m parselmouth\u001b[38;5;241m.\u001b[39mpraat\u001b[38;5;241m.\u001b[39mcall(point_process, \u001b[38;5;124m\"\u001b[39m\u001b[38;5;124mGet jitter (local)\u001b[39m\u001b[38;5;124m\"\u001b[39m, \u001b[38;5;241m0\u001b[39m, \u001b[38;5;241m0\u001b[39m, \u001b[38;5;241m0.0001\u001b[39m, \u001b[38;5;241m0.02\u001b[39m, \u001b[38;5;241m1.3\u001b[39m)\n\u001b[1;32m     13\u001b[0m \u001b[38;5;66;03m# Calculate Shimmer\u001b[39;00m\n\u001b[0;32m---> 14\u001b[0m shimmer \u001b[38;5;241m=\u001b[39m \u001b[43mparselmouth\u001b[49m\u001b[38;5;241;43m.\u001b[39;49m\u001b[43mpraat\u001b[49m\u001b[38;5;241;43m.\u001b[39;49m\u001b[43mcall\u001b[49m\u001b[43m(\u001b[49m\u001b[43msound\u001b[49m\u001b[43m,\u001b[49m\u001b[43m \u001b[49m\u001b[38;5;124;43m\"\u001b[39;49m\u001b[38;5;124;43mGet shimmer (local)\u001b[39;49m\u001b[38;5;124;43m\"\u001b[39;49m\u001b[43m,\u001b[49m\u001b[43m \u001b[49m\u001b[38;5;241;43m0\u001b[39;49m\u001b[43m,\u001b[49m\u001b[43m \u001b[49m\u001b[38;5;241;43m0\u001b[39;49m\u001b[43m,\u001b[49m\u001b[43m \u001b[49m\u001b[38;5;241;43m0.0001\u001b[39;49m\u001b[43m,\u001b[49m\u001b[43m \u001b[49m\u001b[38;5;241;43m0.02\u001b[39;49m\u001b[43m,\u001b[49m\u001b[43m \u001b[49m\u001b[38;5;241;43m1.3\u001b[39;49m\u001b[43m)\u001b[49m\n\u001b[1;32m     16\u001b[0m \u001b[38;5;28;01mreturn\u001b[39;00m hnr, jitter, shimmer\n",
      "\u001b[0;31mPraatError\u001b[0m: Command \"Get shimmer (local)\" not available for given objects."
     ]
    }
   ],
   "source": [
    "for file_name in os.listdir(audio_directory):\n",
    "    if file_name.endswith('.wav'):\n",
    "        file_path = os.path.join(audio_directory, file_name)\n",
    "        label = int(file_name[-5])\n",
    "        y, sr = librosa.load(file_path, sr=None)\n",
    "        n_fft_value = min(512, max(256, len(y) // 2))\n",
    "\n",
    "        # Existing feature extraction\n",
    "        mfcc = librosa.feature.mfcc(y=y, sr=sr, n_mfcc=13, n_fft=n_fft_value)\n",
    "        chroma = librosa.feature.chroma_stft(y=y, sr=sr, n_fft=n_fft_value)\n",
    "        spectral_contrast = librosa.feature.spectral_contrast(y=y, sr=sr, n_fft=n_fft_value)\n",
    "        spectral_centroid = librosa.feature.spectral_centroid(y=y, sr=sr, n_fft=n_fft_value)\n",
    "        spectral_bandwidth = librosa.feature.spectral_bandwidth(y=y, sr=sr, n_fft=n_fft_value)\n",
    "        spectral_flatness = librosa.feature.spectral_flatness(y=y, n_fft=n_fft_value)\n",
    "        spectral_rolloff = librosa.feature.spectral_rolloff(y=y, sr=sr, n_fft=n_fft_value)\n",
    "        mel_spectrogram = librosa.feature.melspectrogram(y=y, sr=sr, n_fft=n_fft_value, n_mels=n_mels, fmax=fmax)\n",
    "        tonnetz = librosa.feature.tonnetz(y=librosa.effects.harmonic(y), sr=sr)\n",
    "        \n",
    "        # Extract new features\n",
    "        hnr, jitter, shimmer = extract_praat_features(y, sr)\n",
    "        lpc_features, plp_features = extract_lpc_plp(y, sr)\n",
    "        pitch_mean, energy_mean = extract_prosody_features(y, sr)\n",
    "\n",
    "        # Flatten existing features\n",
    "        mfccs_mean = np.mean(mfcc, axis=1)\n",
    "        chroma_mean = np.mean(chroma, axis=1)\n",
    "        spectral_contrast_mean = np.mean(spectral_contrast, axis=1)\n",
    "        spectral_centroid_mean = np.mean(spectral_centroid, axis=1)\n",
    "        spectral_bandwidth_mean = np.mean(spectral_bandwidth, axis=1)\n",
    "        spectral_flatness_mean = np.mean(spectral_flatness, axis=1)\n",
    "        spectral_rolloff_mean = np.mean(spectral_rolloff, axis=1)\n",
    "        mel_spectrogram_mean = np.mean(mel_spectrogram, axis=1)\n",
    "        tonnetz_mean = np.mean(tonnetz, axis=1)\n",
    "\n",
    "        # Combine all features into a single feature vector\n",
    "        features = np.hstack([\n",
    "            mfccs_mean, chroma_mean, spectral_contrast_mean, spectral_centroid_mean,\n",
    "            spectral_bandwidth_mean, spectral_flatness_mean, spectral_rolloff_mean,\n",
    "            mel_spectrogram_mean, tonnetz_mean, hnr, jitter, shimmer,\n",
    "            lpc_features, plp_features, pitch_mean, energy_mean\n",
    "        ])\n",
    "\n",
    "        # Append features and label to the feature list\n",
    "        feature_list.append(features)\n",
    "        labels.append(label)\n",
    "        file_names.append(file_name)"
   ]
  },
  {
   "cell_type": "code",
   "execution_count": null,
   "id": "e398a253-e92f-4f1e-b85c-88f0ea11998c",
   "metadata": {
    "scrolled": true
   },
   "outputs": [],
   "source": [
    "num_mel_spectrogram = mel_spectrogram_mean.shape[0]\n",
    "num_tonnetz = tonnetz_mean.shape[0]\n",
    "num_lpc_features = len(lpc_features)\n",
    "num_plp_features = plp_features.shape[1] if plp_features.ndim > 1 else 1  # Check for PLP dimensions\n",
    "\n",
    "columns = (\n",
    "    [f'mfcc_{i}' for i in range(1, 14)] +\n",
    "    [f'chroma_{i}' for i in range(1, 13)] +\n",
    "    [f'spectral_contrast_{i}' for i in range(1, 8)] +\n",
    "    ['spectral_centroid', 'spectral_bandwidth', 'spectral_flatness', 'spectral_rolloff'] +\n",
    "    [f'mel_spectrogram_{i}' for i in range(1, num_mel_spectrogram + 1)] +\n",
    "    [f'tonnetz_{i}' for i in range(1, num_tonnetz + 1)] +\n",
    "    ['hnr', 'jitter', 'shimmer'] +\n",
    "    [f'lpc_{i}' for i in range(1, num_lpc_features + 1)] +\n",
    "    [f'plp_{i}' for i in range(1, num_plp_features + 1)] +\n",
    "    ['pitch_mean', 'energy_mean'] +\n",
    "    ['file_name', 'label'] \n",
    ")\n",
    "\n",
    "# Create DataFrame\n",
    "df = pd.DataFrame(feature_list, columns=columns)\n",
    "df['label'] = labels  # Add label to DataFrame\n",
    "df['file_name'] = file_names\n",
    "\n",
    "# Display the DataFrame shape and first few rows\n",
    "print(df.shape)\n",
    "print(df.head())"
   ]
  },
  {
   "cell_type": "code",
   "execution_count": null,
   "id": "f1b2af12-4982-4651-bc98-ad232ad4cb5b",
   "metadata": {},
   "outputs": [],
   "source": [
    "df"
   ]
  },
  {
   "cell_type": "code",
   "execution_count": null,
   "id": "89d7b83e-e627-4268-a30b-ef1f6ff22a9a",
   "metadata": {},
   "outputs": [],
   "source": [
    "df.to_csv('task1_updated.csv', index=False,header=True)"
   ]
  }
 ],
 "metadata": {
  "kernelspec": {
   "display_name": "Python (venv)",
   "language": "python",
   "name": "venv"
  },
  "language_info": {
   "codemirror_mode": {
    "name": "ipython",
    "version": 3
   },
   "file_extension": ".py",
   "mimetype": "text/x-python",
   "name": "python",
   "nbconvert_exporter": "python",
   "pygments_lexer": "ipython3",
   "version": "3.10.12"
  }
 },
 "nbformat": 4,
 "nbformat_minor": 5
}
